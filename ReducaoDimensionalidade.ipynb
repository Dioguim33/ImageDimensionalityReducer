{
  "nbformat": 4,
  "nbformat_minor": 0,
  "metadata": {
    "colab": {
      "provenance": [],
      "authorship_tag": "ABX9TyOiAkmHC5tSrqwTdn+4/85L",
      "include_colab_link": true
    },
    "kernelspec": {
      "name": "python3",
      "display_name": "Python 3"
    },
    "language_info": {
      "name": "python"
    }
  },
  "cells": [
    {
      "cell_type": "markdown",
      "metadata": {
        "id": "view-in-github",
        "colab_type": "text"
      },
      "source": [
        "<a href=\"https://colab.research.google.com/github/Dioguim33/ImageDimensionalityReducer/blob/main/ReducaoDimensionalidade.ipynb\" target=\"_parent\"><img src=\"https://colab.research.google.com/assets/colab-badge.svg\" alt=\"Open In Colab\"/></a>"
      ]
    },
    {
      "cell_type": "code",
      "execution_count": null,
      "metadata": {
        "id": "bPcUQgnvuEqz",
        "colab": {
          "base_uri": "https://localhost:8080/"
        },
        "outputId": "61293dc0-1a61-43a8-a736-3b10c85a7a86"
      },
      "outputs": [
        {
          "output_type": "stream",
          "name": "stdout",
          "text": [
            "Drive already mounted at /content/drive; to attempt to forcibly remount, call drive.mount(\"/content/drive\", force_remount=True).\n"
          ]
        }
      ],
      "source": [
        "from google.colab import drive\n",
        "from PIL import Image\n",
        "from IPython.display import display\n",
        "\n",
        "drive.mount('/content/drive')\n",
        "image_path = '/content/drive/MyDrive/image/gti8.5.jpg'\n",
        "image_original = Image.open(image_path)"
      ]
    },
    {
      "cell_type": "code",
      "source": [
        "def convert_to_gray(image):\n",
        "  width, height = image.size\n",
        "  image_gray = Image.new('L',(width, height))\n",
        "\n",
        "  for y in range(height):\n",
        "    for x in range(width):\n",
        "      r, g, b = image.getpixel((x,y))\n",
        "      value_gray = int(0.299 * r + 0.587 * g + 0.114 * b)\n",
        "      image_gray.putpixel((x, y), value_gray)\n",
        "\n",
        "  return image_gray"
      ],
      "metadata": {
        "id": "CcI0WEY_jpNq"
      },
      "execution_count": null,
      "outputs": []
    },
    {
      "cell_type": "code",
      "source": [
        "def binary_image(image_gray, limiar = 127):\n",
        "  width, height = image_gray.size\n",
        "  image_binary = Image.new(\"1\", (width, height))\n",
        "\n",
        "  for y in range(height):\n",
        "    for x in range(width):\n",
        "      value_gray = image_gray.getpixel((x,y))\n",
        "      value_binary = 1 if value_gray > limiar else 0\n",
        "      image_binary.putpixel((x,y), value_binary)\n",
        "\n",
        "  return image_binary"
      ],
      "metadata": {
        "id": "-5xM1zGAjp6y"
      },
      "execution_count": null,
      "outputs": []
    },
    {
      "cell_type": "code",
      "source": [
        "image_gray = convert_to_gray(image_original)\n",
        "image_binary = binary_image(image_gray)\n",
        "\n",
        "print('Imagem Original')\n",
        "display(image_original)\n",
        "\n",
        "print('Imagem em Tons de Cinza')\n",
        "display(image_gray)\n",
        "\n",
        "print('Imagem Binarizada')\n",
        "display(image_binary)"
      ],
      "metadata": {
        "id": "Um9RKP7smq9q",
        "colab": {
          "base_uri": "https://localhost:8080/",
          "height": 1000
        },
        "outputId": "718470ea-0cbb-4e85-efba-79163a7fe73f"
      },
      "execution_count": null,
      "outputs": []
    }
  ]
}